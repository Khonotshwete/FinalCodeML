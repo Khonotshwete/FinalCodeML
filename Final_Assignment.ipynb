{
  "cells": [
    {
      "cell_type": "code",
      "execution_count": null,
      "id": "39ae164b-c1a3-497e-bd91-9e06fd3bc288",
      "metadata": {
        "id": "39ae164b-c1a3-497e-bd91-9e06fd3bc288",
        "outputId": "f50bf10c-d6a2-4929-92fb-a0a548cca700"
      },
      "outputs": [
        {
          "name": "stdout",
          "output_type": "stream",
          "text": [
            "Defaulting to user installation because normal site-packages is not writeable\n",
            "Looking in links: /usr/share/pip-wheels\n",
            "Requirement already satisfied: pandas in /opt/conda/envs/anaconda-panel-2023.05-py310/lib/python3.11/site-packages (2.0.3)\n",
            "Requirement already satisfied: numpy in /opt/conda/envs/anaconda-panel-2023.05-py310/lib/python3.11/site-packages (1.24.3)\n",
            "Requirement already satisfied: scikit-learn in /opt/conda/envs/anaconda-panel-2023.05-py310/lib/python3.11/site-packages (1.3.0)\n",
            "Requirement already satisfied: matplotlib in /opt/conda/envs/anaconda-panel-2023.05-py310/lib/python3.11/site-packages (3.7.2)\n",
            "Requirement already satisfied: seaborn in /opt/conda/envs/anaconda-panel-2023.05-py310/lib/python3.11/site-packages (0.12.2)\n",
            "Requirement already satisfied: python-dateutil>=2.8.2 in /opt/conda/envs/anaconda-panel-2023.05-py310/lib/python3.11/site-packages (from pandas) (2.8.2)\n",
            "Requirement already satisfied: pytz>=2020.1 in /opt/conda/envs/anaconda-panel-2023.05-py310/lib/python3.11/site-packages (from pandas) (2023.3.post1)\n",
            "Requirement already satisfied: tzdata>=2022.1 in /opt/conda/envs/anaconda-panel-2023.05-py310/lib/python3.11/site-packages (from pandas) (2023.3)\n",
            "Requirement already satisfied: scipy>=1.5.0 in /opt/conda/envs/anaconda-panel-2023.05-py310/lib/python3.11/site-packages (from scikit-learn) (1.11.1)\n",
            "Requirement already satisfied: joblib>=1.1.1 in /opt/conda/envs/anaconda-panel-2023.05-py310/lib/python3.11/site-packages (from scikit-learn) (1.2.0)\n",
            "Requirement already satisfied: threadpoolctl>=2.0.0 in /opt/conda/envs/anaconda-panel-2023.05-py310/lib/python3.11/site-packages (from scikit-learn) (2.2.0)\n",
            "Requirement already satisfied: contourpy>=1.0.1 in /opt/conda/envs/anaconda-panel-2023.05-py310/lib/python3.11/site-packages (from matplotlib) (1.0.5)\n",
            "Requirement already satisfied: cycler>=0.10 in /opt/conda/envs/anaconda-panel-2023.05-py310/lib/python3.11/site-packages (from matplotlib) (0.11.0)\n",
            "Requirement already satisfied: fonttools>=4.22.0 in /opt/conda/envs/anaconda-panel-2023.05-py310/lib/python3.11/site-packages (from matplotlib) (4.25.0)\n",
            "Requirement already satisfied: kiwisolver>=1.0.1 in /opt/conda/envs/anaconda-panel-2023.05-py310/lib/python3.11/site-packages (from matplotlib) (1.4.4)\n",
            "Requirement already satisfied: packaging>=20.0 in /opt/conda/envs/anaconda-panel-2023.05-py310/lib/python3.11/site-packages (from matplotlib) (23.1)\n",
            "Requirement already satisfied: pillow>=6.2.0 in /opt/conda/envs/anaconda-panel-2023.05-py310/lib/python3.11/site-packages (from matplotlib) (9.4.0)\n",
            "Requirement already satisfied: pyparsing<3.1,>=2.3.1 in /opt/conda/envs/anaconda-panel-2023.05-py310/lib/python3.11/site-packages (from matplotlib) (3.0.9)\n",
            "Requirement already satisfied: six>=1.5 in /opt/conda/envs/anaconda-panel-2023.05-py310/lib/python3.11/site-packages (from python-dateutil>=2.8.2->pandas) (1.16.0)\n"
          ]
        }
      ],
      "source": [
        "!pip install pandas numpy scikit-learn matplotlib seaborn\n",
        "\n",
        "# Import required libraries\n",
        "import pandas as pd\n",
        "import numpy as np\n",
        "import seaborn as sns\n",
        "import matplotlib.pyplot as plt\n",
        "\n",
        "from sklearn.model_selection import train_test_split\n",
        "from sklearn.preprocessing import LabelEncoder, MinMaxScaler\n",
        "from sklearn.ensemble import RandomForestClassifier\n",
        "from sklearn.metrics import accuracy_score, classification_report, confusion_matrix\n"
      ]
    },
    {
      "cell_type": "code",
      "execution_count": null,
      "id": "c4a68968-2a87-47d4-af35-c35ac7e23c21",
      "metadata": {
        "id": "c4a68968-2a87-47d4-af35-c35ac7e23c21",
        "outputId": "028ff4a7-85e8-41fb-f262-b3f9b4b173c5"
      },
      "outputs": [
        {
          "data": {
            "text/html": [
              "<div>\n",
              "<style scoped>\n",
              "    .dataframe tbody tr th:only-of-type {\n",
              "        vertical-align: middle;\n",
              "    }\n",
              "\n",
              "    .dataframe tbody tr th {\n",
              "        vertical-align: top;\n",
              "    }\n",
              "\n",
              "    .dataframe thead th {\n",
              "        text-align: right;\n",
              "    }\n",
              "</style>\n",
              "<table border=\"1\" class=\"dataframe\">\n",
              "  <thead>\n",
              "    <tr style=\"text-align: right;\">\n",
              "      <th></th>\n",
              "      <th>crash_date</th>\n",
              "      <th>traffic_control_device</th>\n",
              "      <th>weather_condition</th>\n",
              "      <th>lighting_condition</th>\n",
              "      <th>first_crash_type</th>\n",
              "      <th>trafficway_type</th>\n",
              "      <th>alignment</th>\n",
              "      <th>roadway_surface_cond</th>\n",
              "      <th>road_defect</th>\n",
              "      <th>crash_type</th>\n",
              "      <th>...</th>\n",
              "      <th>most_severe_injury</th>\n",
              "      <th>injuries_total</th>\n",
              "      <th>injuries_fatal</th>\n",
              "      <th>injuries_incapacitating</th>\n",
              "      <th>injuries_non_incapacitating</th>\n",
              "      <th>injuries_reported_not_evident</th>\n",
              "      <th>injuries_no_indication</th>\n",
              "      <th>crash_hour</th>\n",
              "      <th>crash_day_of_week</th>\n",
              "      <th>crash_month</th>\n",
              "    </tr>\n",
              "  </thead>\n",
              "  <tbody>\n",
              "    <tr>\n",
              "      <th>0</th>\n",
              "      <td>07/29/2023 01:00:00 PM</td>\n",
              "      <td>TRAFFIC SIGNAL</td>\n",
              "      <td>CLEAR</td>\n",
              "      <td>DAYLIGHT</td>\n",
              "      <td>TURNING</td>\n",
              "      <td>NOT DIVIDED</td>\n",
              "      <td>STRAIGHT AND LEVEL</td>\n",
              "      <td>UNKNOWN</td>\n",
              "      <td>UNKNOWN</td>\n",
              "      <td>NO INJURY / DRIVE AWAY</td>\n",
              "      <td>...</td>\n",
              "      <td>NO INDICATION OF INJURY</td>\n",
              "      <td>0.0</td>\n",
              "      <td>0.0</td>\n",
              "      <td>0.0</td>\n",
              "      <td>0.0</td>\n",
              "      <td>0.0</td>\n",
              "      <td>3.0</td>\n",
              "      <td>13</td>\n",
              "      <td>7</td>\n",
              "      <td>7</td>\n",
              "    </tr>\n",
              "    <tr>\n",
              "      <th>1</th>\n",
              "      <td>08/13/2023 12:11:00 AM</td>\n",
              "      <td>TRAFFIC SIGNAL</td>\n",
              "      <td>CLEAR</td>\n",
              "      <td>DARKNESS, LIGHTED ROAD</td>\n",
              "      <td>TURNING</td>\n",
              "      <td>FOUR WAY</td>\n",
              "      <td>STRAIGHT AND LEVEL</td>\n",
              "      <td>DRY</td>\n",
              "      <td>NO DEFECTS</td>\n",
              "      <td>NO INJURY / DRIVE AWAY</td>\n",
              "      <td>...</td>\n",
              "      <td>NO INDICATION OF INJURY</td>\n",
              "      <td>0.0</td>\n",
              "      <td>0.0</td>\n",
              "      <td>0.0</td>\n",
              "      <td>0.0</td>\n",
              "      <td>0.0</td>\n",
              "      <td>2.0</td>\n",
              "      <td>0</td>\n",
              "      <td>1</td>\n",
              "      <td>8</td>\n",
              "    </tr>\n",
              "    <tr>\n",
              "      <th>2</th>\n",
              "      <td>12/09/2021 10:30:00 AM</td>\n",
              "      <td>TRAFFIC SIGNAL</td>\n",
              "      <td>CLEAR</td>\n",
              "      <td>DAYLIGHT</td>\n",
              "      <td>REAR END</td>\n",
              "      <td>T-INTERSECTION</td>\n",
              "      <td>STRAIGHT AND LEVEL</td>\n",
              "      <td>DRY</td>\n",
              "      <td>NO DEFECTS</td>\n",
              "      <td>NO INJURY / DRIVE AWAY</td>\n",
              "      <td>...</td>\n",
              "      <td>NO INDICATION OF INJURY</td>\n",
              "      <td>0.0</td>\n",
              "      <td>0.0</td>\n",
              "      <td>0.0</td>\n",
              "      <td>0.0</td>\n",
              "      <td>0.0</td>\n",
              "      <td>3.0</td>\n",
              "      <td>10</td>\n",
              "      <td>5</td>\n",
              "      <td>12</td>\n",
              "    </tr>\n",
              "    <tr>\n",
              "      <th>3</th>\n",
              "      <td>08/09/2023 07:55:00 PM</td>\n",
              "      <td>TRAFFIC SIGNAL</td>\n",
              "      <td>CLEAR</td>\n",
              "      <td>DAYLIGHT</td>\n",
              "      <td>ANGLE</td>\n",
              "      <td>FOUR WAY</td>\n",
              "      <td>STRAIGHT AND LEVEL</td>\n",
              "      <td>DRY</td>\n",
              "      <td>NO DEFECTS</td>\n",
              "      <td>INJURY AND / OR TOW DUE TO CRASH</td>\n",
              "      <td>...</td>\n",
              "      <td>NONINCAPACITATING INJURY</td>\n",
              "      <td>5.0</td>\n",
              "      <td>0.0</td>\n",
              "      <td>0.0</td>\n",
              "      <td>5.0</td>\n",
              "      <td>0.0</td>\n",
              "      <td>0.0</td>\n",
              "      <td>19</td>\n",
              "      <td>4</td>\n",
              "      <td>8</td>\n",
              "    </tr>\n",
              "    <tr>\n",
              "      <th>4</th>\n",
              "      <td>08/19/2023 02:55:00 PM</td>\n",
              "      <td>TRAFFIC SIGNAL</td>\n",
              "      <td>CLEAR</td>\n",
              "      <td>DAYLIGHT</td>\n",
              "      <td>REAR END</td>\n",
              "      <td>T-INTERSECTION</td>\n",
              "      <td>STRAIGHT AND LEVEL</td>\n",
              "      <td>UNKNOWN</td>\n",
              "      <td>UNKNOWN</td>\n",
              "      <td>NO INJURY / DRIVE AWAY</td>\n",
              "      <td>...</td>\n",
              "      <td>NO INDICATION OF INJURY</td>\n",
              "      <td>0.0</td>\n",
              "      <td>0.0</td>\n",
              "      <td>0.0</td>\n",
              "      <td>0.0</td>\n",
              "      <td>0.0</td>\n",
              "      <td>3.0</td>\n",
              "      <td>14</td>\n",
              "      <td>7</td>\n",
              "      <td>8</td>\n",
              "    </tr>\n",
              "  </tbody>\n",
              "</table>\n",
              "<p>5 rows × 24 columns</p>\n",
              "</div>"
            ],
            "text/plain": [
              "               crash_date traffic_control_device weather_condition  \\\n",
              "0  07/29/2023 01:00:00 PM         TRAFFIC SIGNAL             CLEAR   \n",
              "1  08/13/2023 12:11:00 AM         TRAFFIC SIGNAL             CLEAR   \n",
              "2  12/09/2021 10:30:00 AM         TRAFFIC SIGNAL             CLEAR   \n",
              "3  08/09/2023 07:55:00 PM         TRAFFIC SIGNAL             CLEAR   \n",
              "4  08/19/2023 02:55:00 PM         TRAFFIC SIGNAL             CLEAR   \n",
              "\n",
              "       lighting_condition first_crash_type trafficway_type  \\\n",
              "0                DAYLIGHT          TURNING     NOT DIVIDED   \n",
              "1  DARKNESS, LIGHTED ROAD          TURNING        FOUR WAY   \n",
              "2                DAYLIGHT         REAR END  T-INTERSECTION   \n",
              "3                DAYLIGHT            ANGLE        FOUR WAY   \n",
              "4                DAYLIGHT         REAR END  T-INTERSECTION   \n",
              "\n",
              "            alignment roadway_surface_cond road_defect  \\\n",
              "0  STRAIGHT AND LEVEL              UNKNOWN     UNKNOWN   \n",
              "1  STRAIGHT AND LEVEL                  DRY  NO DEFECTS   \n",
              "2  STRAIGHT AND LEVEL                  DRY  NO DEFECTS   \n",
              "3  STRAIGHT AND LEVEL                  DRY  NO DEFECTS   \n",
              "4  STRAIGHT AND LEVEL              UNKNOWN     UNKNOWN   \n",
              "\n",
              "                         crash_type  ...        most_severe_injury  \\\n",
              "0            NO INJURY / DRIVE AWAY  ...   NO INDICATION OF INJURY   \n",
              "1            NO INJURY / DRIVE AWAY  ...   NO INDICATION OF INJURY   \n",
              "2            NO INJURY / DRIVE AWAY  ...   NO INDICATION OF INJURY   \n",
              "3  INJURY AND / OR TOW DUE TO CRASH  ...  NONINCAPACITATING INJURY   \n",
              "4            NO INJURY / DRIVE AWAY  ...   NO INDICATION OF INJURY   \n",
              "\n",
              "  injuries_total injuries_fatal  injuries_incapacitating  \\\n",
              "0            0.0            0.0                      0.0   \n",
              "1            0.0            0.0                      0.0   \n",
              "2            0.0            0.0                      0.0   \n",
              "3            5.0            0.0                      0.0   \n",
              "4            0.0            0.0                      0.0   \n",
              "\n",
              "  injuries_non_incapacitating  injuries_reported_not_evident  \\\n",
              "0                         0.0                            0.0   \n",
              "1                         0.0                            0.0   \n",
              "2                         0.0                            0.0   \n",
              "3                         5.0                            0.0   \n",
              "4                         0.0                            0.0   \n",
              "\n",
              "   injuries_no_indication  crash_hour  crash_day_of_week  crash_month  \n",
              "0                     3.0          13                  7            7  \n",
              "1                     2.0           0                  1            8  \n",
              "2                     3.0          10                  5           12  \n",
              "3                     0.0          19                  4            8  \n",
              "4                     3.0          14                  7            8  \n",
              "\n",
              "[5 rows x 24 columns]"
            ]
          },
          "execution_count": 2,
          "metadata": {},
          "output_type": "execute_result"
        }
      ],
      "source": [
        "import pandas as pd\n",
        "\n",
        "# dataset loaded\n",
        "df = pd.read_csv('traffic_accidents.csv')\n",
        "\n",
        "# display of first few rows\n",
        "df.head()"
      ]
    },
    {
      "cell_type": "code",
      "execution_count": null,
      "id": "a375e9f0-9ede-48f9-841e-cc58a7252f61",
      "metadata": {
        "id": "a375e9f0-9ede-48f9-841e-cc58a7252f61",
        "outputId": "9424a94e-d0da-446f-b5ec-fc118afe137e"
      },
      "outputs": [
        {
          "name": "stdout",
          "output_type": "stream",
          "text": [
            "<class 'pandas.core.frame.DataFrame'>\n",
            "RangeIndex: 209306 entries, 0 to 209305\n",
            "Data columns (total 24 columns):\n",
            " #   Column                         Non-Null Count   Dtype  \n",
            "---  ------                         --------------   -----  \n",
            " 0   crash_date                     209306 non-null  object \n",
            " 1   traffic_control_device         209306 non-null  object \n",
            " 2   weather_condition              209306 non-null  object \n",
            " 3   lighting_condition             209306 non-null  object \n",
            " 4   first_crash_type               209306 non-null  object \n",
            " 5   trafficway_type                209306 non-null  object \n",
            " 6   alignment                      209306 non-null  object \n",
            " 7   roadway_surface_cond           209306 non-null  object \n",
            " 8   road_defect                    209306 non-null  object \n",
            " 9   crash_type                     209306 non-null  object \n",
            " 10  intersection_related_i         209306 non-null  object \n",
            " 11  damage                         209306 non-null  object \n",
            " 12  prim_contributory_cause        209306 non-null  object \n",
            " 13  num_units                      209306 non-null  int64  \n",
            " 14  most_severe_injury             209306 non-null  object \n",
            " 15  injuries_total                 209306 non-null  float64\n",
            " 16  injuries_fatal                 209306 non-null  float64\n",
            " 17  injuries_incapacitating        209306 non-null  float64\n",
            " 18  injuries_non_incapacitating    209306 non-null  float64\n",
            " 19  injuries_reported_not_evident  209306 non-null  float64\n",
            " 20  injuries_no_indication         209306 non-null  float64\n",
            " 21  crash_hour                     209306 non-null  int64  \n",
            " 22  crash_day_of_week              209306 non-null  int64  \n",
            " 23  crash_month                    209306 non-null  int64  \n",
            "dtypes: float64(6), int64(4), object(14)\n",
            "memory usage: 38.3+ MB\n",
            "Missing Values Before Processing:\n",
            " crash_date                       0\n",
            "traffic_control_device           0\n",
            "weather_condition                0\n",
            "lighting_condition               0\n",
            "first_crash_type                 0\n",
            "trafficway_type                  0\n",
            "alignment                        0\n",
            "roadway_surface_cond             0\n",
            "road_defect                      0\n",
            "crash_type                       0\n",
            "intersection_related_i           0\n",
            "damage                           0\n",
            "prim_contributory_cause          0\n",
            "num_units                        0\n",
            "most_severe_injury               0\n",
            "injuries_total                   0\n",
            "injuries_fatal                   0\n",
            "injuries_incapacitating          0\n",
            "injuries_non_incapacitating      0\n",
            "injuries_reported_not_evident    0\n",
            "injuries_no_indication           0\n",
            "crash_hour                       0\n",
            "crash_day_of_week                0\n",
            "crash_month                      0\n",
            "dtype: int64\n",
            "Missing Values After Processing:\n",
            " crash_date                       0\n",
            "traffic_control_device           0\n",
            "weather_condition                0\n",
            "lighting_condition               0\n",
            "first_crash_type                 0\n",
            "trafficway_type                  0\n",
            "alignment                        0\n",
            "roadway_surface_cond             0\n",
            "road_defect                      0\n",
            "crash_type                       0\n",
            "intersection_related_i           0\n",
            "damage                           0\n",
            "prim_contributory_cause          0\n",
            "num_units                        0\n",
            "most_severe_injury               0\n",
            "injuries_total                   0\n",
            "injuries_fatal                   0\n",
            "injuries_incapacitating          0\n",
            "injuries_non_incapacitating      0\n",
            "injuries_reported_not_evident    0\n",
            "injuries_no_indication           0\n",
            "crash_hour                       0\n",
            "crash_day_of_week                0\n",
            "crash_month                      0\n",
            "dtype: int64\n"
          ]
        }
      ],
      "source": [
        "# Check dataset structure\n",
        "df.info()\n",
        "\n",
        "# Check for missing values\n",
        "print(\"Missing Values Before Processing:\\n\", df.isnull().sum())\n",
        "\n",
        "# Handle missing numerical values (replace with median)\n",
        "df.fillna(df.median(numeric_only=True), inplace=True)\n",
        "\n",
        "# Handle missing categorical values\n",
        "for col in df.select_dtypes(include=['object']).columns:\n",
        "    if df[col].isnull().sum() > 0:\n",
        "        df[col].fillna(df[col].dropna().mode()[0], inplace=True)\n",
        "\n",
        "# Verify missing values are removed\n",
        "print(\"Missing Values After Processing:\\n\", df.isnull().sum())\n"
      ]
    },
    {
      "cell_type": "code",
      "execution_count": null,
      "id": "5cb2a74a-a024-44be-a7ca-86cf6996df2c",
      "metadata": {
        "id": "5cb2a74a-a024-44be-a7ca-86cf6996df2c",
        "outputId": "8c089fbf-9c09-4bf1-8abc-971bfe074b4e"
      },
      "outputs": [
        {
          "name": "stdout",
          "output_type": "stream",
          "text": [
            "Dataset After Encoding:\n",
            "    crash_date  traffic_control_device  weather_condition  lighting_condition  \\\n",
            "0      102748                      16                  2                   3   \n",
            "1      110797                      16                  2                   1   \n",
            "2      176858                      16                  2                   3   \n",
            "3      108613                      16                  2                   3   \n",
            "4      113911                      16                  2                   3   \n",
            "\n",
            "   first_crash_type  trafficway_type  alignment  roadway_surface_cond  \\\n",
            "0                17                8          3                     5   \n",
            "1                17                6          3                     0   \n",
            "2                10               15          3                     0   \n",
            "3                 0                6          3                     0   \n",
            "4                10               15          3                     5   \n",
            "\n",
            "   road_defect  crash_type  ...  most_severe_injury  injuries_total  \\\n",
            "0            5           1  ...                   2             0.0   \n",
            "1            1           1  ...                   2             0.0   \n",
            "2            1           1  ...                   2             0.0   \n",
            "3            1           0  ...                   3             5.0   \n",
            "4            5           1  ...                   2             0.0   \n",
            "\n",
            "   injuries_fatal  injuries_incapacitating  injuries_non_incapacitating  \\\n",
            "0             0.0                      0.0                          0.0   \n",
            "1             0.0                      0.0                          0.0   \n",
            "2             0.0                      0.0                          0.0   \n",
            "3             0.0                      0.0                          5.0   \n",
            "4             0.0                      0.0                          0.0   \n",
            "\n",
            "   injuries_reported_not_evident  injuries_no_indication  crash_hour  \\\n",
            "0                            0.0                     3.0          13   \n",
            "1                            0.0                     2.0           0   \n",
            "2                            0.0                     3.0          10   \n",
            "3                            0.0                     0.0          19   \n",
            "4                            0.0                     3.0          14   \n",
            "\n",
            "   crash_day_of_week  crash_month  \n",
            "0                  7            7  \n",
            "1                  1            8  \n",
            "2                  5           12  \n",
            "3                  4            8  \n",
            "4                  7            8  \n",
            "\n",
            "[5 rows x 24 columns]\n"
          ]
        }
      ],
      "source": [
        "# Convert categorical columns into numerical format\n",
        "label_encoders = {}\n",
        "for col in df.select_dtypes(include=['object']).columns:\n",
        "    le = LabelEncoder()\n",
        "    df[col] = le.fit_transform(df[col])\n",
        "    label_encoders[col] = le  # Store for decoding later if needed\n",
        "\n",
        "# Verify encoding was applied\n",
        "print(\"Dataset After Encoding:\\n\", df.head())\n"
      ]
    },
    {
      "cell_type": "code",
      "execution_count": null,
      "id": "c93f116c-9fb2-4ab2-98c3-3d69e02ab6b7",
      "metadata": {
        "id": "c93f116c-9fb2-4ab2-98c3-3d69e02ab6b7",
        "outputId": "d11ef524-fa57-4e4b-8861-885b02313ce1"
      },
      "outputs": [
        {
          "name": "stdout",
          "output_type": "stream",
          "text": [
            "Dataset After Scaling:\n",
            "           crash_hour  injuries_total      num_units\n",
            "count  209306.000000   209306.000000  209306.000000\n",
            "mean        0.581437        0.018225       0.106330\n",
            "std         0.243645        0.038082       0.039601\n",
            "min         0.000000        0.000000       0.000000\n",
            "25%         0.391304        0.000000       0.100000\n",
            "50%         0.608696        0.000000       0.100000\n",
            "75%         0.739130        0.047619       0.100000\n",
            "max         1.000000        1.000000       1.000000\n"
          ]
        }
      ],
      "source": [
        "from sklearn.preprocessing import MinMaxScaler\n",
        "\n",
        "# Identify numerical features for scaling\n",
        "num_features = ['crash_hour', 'injuries_total', 'num_units']\n",
        "\n",
        "# Apply MinMax Scaling\n",
        "scaler = MinMaxScaler()\n",
        "df[num_features] = scaler.fit_transform(df[num_features])\n",
        "\n",
        "# Verify scaling effect\n",
        "print(\"Dataset After Scaling:\\n\", df[num_features].describe())\n"
      ]
    },
    {
      "cell_type": "code",
      "execution_count": null,
      "id": "9ae26ff8-40f9-40a2-9733-f24c42bf8c26",
      "metadata": {
        "id": "9ae26ff8-40f9-40a2-9733-f24c42bf8c26",
        "outputId": "9ac17fcf-f1a1-4cb2-d9d0-ef063cd38fa2"
      },
      "outputs": [
        {
          "name": "stdout",
          "output_type": "stream",
          "text": [
            "Training Set: (167444, 23), Testing Set: (41862, 23)\n"
          ]
        }
      ],
      "source": [
        "# Define features (X) and target variable (y)\n",
        "X = df.drop(columns=['crash_type'])  # Ensure 'crash_type' is correct\n",
        "y = df['crash_type']\n",
        "\n",
        "# Split dataset (80% training, 20% testing)\n",
        "X_train, X_test, y_train, y_test = train_test_split(X, y, test_size=0.2, random_state=42)\n",
        "\n",
        "# Print shapes of datasets\n",
        "print(f\"Training Set: {X_train.shape}, Testing Set: {X_test.shape}\")\n"
      ]
    },
    {
      "cell_type": "code",
      "execution_count": null,
      "id": "2fe1c896-65cb-4c4a-8c50-850cb9d65ceb",
      "metadata": {
        "id": "2fe1c896-65cb-4c4a-8c50-850cb9d65ceb",
        "outputId": "46f6aeaa-f3d5-4770-bd04-5b9c2e3b6ad1"
      },
      "outputs": [
        {
          "name": "stdout",
          "output_type": "stream",
          "text": [
            "✅ Model Training Complete!\n"
          ]
        }
      ],
      "source": [
        "# Initialize and train the Random Forest model\n",
        "rf_model = RandomForestClassifier(n_estimators=100, random_state=42)\n",
        "rf_model.fit(X_train, y_train)\n",
        "\n",
        "print(\"✅ Model Training Complete!\")\n"
      ]
    },
    {
      "cell_type": "code",
      "execution_count": null,
      "id": "cfd975fc-4e4d-4403-bb14-d63edaabe7fd",
      "metadata": {
        "id": "cfd975fc-4e4d-4403-bb14-d63edaabe7fd",
        "outputId": "056629c9-3240-48ce-fd6a-8a348ffc19e1"
      },
      "outputs": [
        {
          "name": "stdout",
          "output_type": "stream",
          "text": [
            " Model Accuracy: 0.84\n"
          ]
        }
      ],
      "source": [
        "# Make predictions\n",
        "y_pred = rf_model.predict(X_test)\n",
        "\n",
        "# Evaluate accuracy\n",
        "accuracy = accuracy_score(y_test, y_pred)\n",
        "print(f' Model Accuracy: {accuracy:.2f}')\n"
      ]
    },
    {
      "cell_type": "code",
      "execution_count": null,
      "id": "fb6a7ac3-1004-48e8-9267-89fd3789ce2a",
      "metadata": {
        "id": "fb6a7ac3-1004-48e8-9267-89fd3789ce2a",
        "outputId": "25757911-c711-4ca7-f0bb-e6816be3b3fc"
      },
      "outputs": [
        {
          "name": "stdout",
          "output_type": "stream",
          "text": [
            "\n",
            "🔍 Classification Report:\n",
            "              precision    recall  f1-score   support\n",
            "\n",
            "           0       0.87      0.75      0.80     18512\n",
            "           1       0.82      0.91      0.86     23350\n",
            "\n",
            "    accuracy                           0.84     41862\n",
            "   macro avg       0.84      0.83      0.83     41862\n",
            "weighted avg       0.84      0.84      0.84     41862\n",
            "\n"
          ]
        }
      ],
      "source": [
        "# Display classification report\n",
        "print(\"\\n Classification Report:\")\n",
        "print(classification_report(y_test, y_pred))\n"
      ]
    },
    {
      "cell_type": "code",
      "execution_count": null,
      "id": "2672a76e-d501-4734-a2b6-0cd3299b2f84",
      "metadata": {
        "id": "2672a76e-d501-4734-a2b6-0cd3299b2f84",
        "outputId": "8fb48b52-8dbd-48bb-f9af-2ad5a9358119"
      },
      "outputs": [
        {
          "data": {
            "image/png": "[encoded data removed]",
            "text/plain": [
              "<Figure size 600x400 with 2 Axes>"
            ]
          },
          "metadata": {},
          "output_type": "display_data"
        }
      ],
      "source": [
        "# Generate confusion matrix\n",
        "cm = confusion_matrix(y_test, y_pred)\n",
        "\n",
        "# Plot confusion matrix\n",
        "plt.figure(figsize=(6,4))\n",
        "sns.heatmap(cm, annot=True, fmt='d', cmap='Blues', xticklabels=np.unique(y), yticklabels=np.unique(y))\n",
        "plt.xlabel('Predicted')\n",
        "plt.ylabel('Actual')\n",
        "plt.title('Confusion Matrix')\n",
        "plt.show()\n"
      ]
    },
    {
      "cell_type": "code",
      "execution_count": null,
      "id": "f215f74b-a00a-4fd4-9789-5c4476b4ac77",
      "metadata": {
        "id": "f215f74b-a00a-4fd4-9789-5c4476b4ac77",
        "outputId": "26c30a91-a41d-414c-98fa-b7d7c9006144"
      },
      "outputs": [
        {
          "data": {
            "image/png": "[encoded data removed]",
            "text/plain": [
              "<Figure size 1000x500 with 1 Axes>"
            ]
          },
          "metadata": {},
          "output_type": "display_data"
        }
      ],
      "source": [
        "# Extract feature importance\n",
        "feature_importance = pd.Series(rf_model.feature_importances_, index=X.columns)\n",
        "\n",
        "# Sort and plot feature importance\n",
        "plt.figure(figsize=(10,5))\n",
        "feature_importance.sort_values(ascending=False).plot(kind='bar', color='skyblue')\n",
        "plt.xlabel('Feature')\n",
        "plt.ylabel('Importance Score')\n",
        "plt.title('Feature Importance in Random Forest Model')\n",
        "plt.show()\n"
      ]
    },
    {
      "cell_type": "code",
      "execution_count": null,
      "id": "66208e64-5a46-480c-b8cf-e7283ff1ce5c",
      "metadata": {
        "id": "66208e64-5a46-480c-b8cf-e7283ff1ce5c"
      },
      "outputs": [],
      "source": []
    }
  ],
  "metadata": {
    "kernelspec": {
      "display_name": "anaconda-panel-2023.05-py310",
      "language": "python",
      "name": "conda-env-anaconda-panel-2023.05-py310-py"
    },
    "language_info": {
      "codemirror_mode": {
        "name": "ipython",
        "version": 3
      },
      "file_extension": ".py",
      "mimetype": "text/x-python",
      "name": "python",
      "nbconvert_exporter": "python",
      "pygments_lexer": "ipython3",
      "version": "3.11.5"
    },
    "colab": {
      "provenance": []
    }
  },
  "nbformat": 4,
  "nbformat_minor": 5
}